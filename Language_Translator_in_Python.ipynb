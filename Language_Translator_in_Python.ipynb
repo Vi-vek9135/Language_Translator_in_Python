{
  "nbformat": 4,
  "nbformat_minor": 0,
  "metadata": {
    "colab": {
      "provenance": [],
      "gpuType": "T4",
      "authorship_tag": "ABX9TyOehOHvXg/iqm5KsLTYdlFj",
      "include_colab_link": true
    },
    "kernelspec": {
      "name": "python3",
      "display_name": "Python 3"
    },
    "language_info": {
      "name": "python"
    },
    "accelerator": "GPU"
  },
  "cells": [
    {
      "cell_type": "markdown",
      "metadata": {
        "id": "view-in-github",
        "colab_type": "text"
      },
      "source": [
        "<a href=\"https://colab.research.google.com/github/Vi-vek9135/Language_Translator_in_Python/blob/main/Language_Translator_in_Python.ipynb\" target=\"_parent\"><img src=\"https://colab.research.google.com/assets/colab-badge.svg\" alt=\"Open In Colab\"/></a>"
      ]
    },
    {
      "cell_type": "code",
      "execution_count": 1,
      "metadata": {
        "colab": {
          "base_uri": "https://localhost:8080/"
        },
        "id": "7gCw22-b31Rf",
        "outputId": "a951e93b-7e9e-4824-a735-f115912eda73"
      },
      "outputs": [
        {
          "output_type": "stream",
          "name": "stdout",
          "text": [
            "Collecting translate\n",
            "  Downloading translate-3.6.1-py2.py3-none-any.whl (12 kB)\n",
            "Requirement already satisfied: click in /usr/local/lib/python3.10/dist-packages (from translate) (8.1.7)\n",
            "Requirement already satisfied: lxml in /usr/local/lib/python3.10/dist-packages (from translate) (4.9.4)\n",
            "Requirement already satisfied: requests in /usr/local/lib/python3.10/dist-packages (from translate) (2.31.0)\n",
            "Collecting libretranslatepy==2.1.1 (from translate)\n",
            "  Downloading libretranslatepy-2.1.1-py3-none-any.whl (3.2 kB)\n",
            "Requirement already satisfied: charset-normalizer<4,>=2 in /usr/local/lib/python3.10/dist-packages (from requests->translate) (3.3.2)\n",
            "Requirement already satisfied: idna<4,>=2.5 in /usr/local/lib/python3.10/dist-packages (from requests->translate) (3.6)\n",
            "Requirement already satisfied: urllib3<3,>=1.21.1 in /usr/local/lib/python3.10/dist-packages (from requests->translate) (2.0.7)\n",
            "Requirement already satisfied: certifi>=2017.4.17 in /usr/local/lib/python3.10/dist-packages (from requests->translate) (2024.2.2)\n",
            "Installing collected packages: libretranslatepy, translate\n",
            "Successfully installed libretranslatepy-2.1.1 translate-3.6.1\n"
          ]
        }
      ],
      "source": [
        "!pip install translate"
      ]
    },
    {
      "cell_type": "code",
      "source": [
        "from translate import Translator\n",
        "print(\"\\nINDIAN LANGUAGE TRANSLATOR\\n\")\n",
        "print(\"lang_code language \\n en English(India) \\n gu-IN Gujarati(India) \\n hi-IN Hindi(India) \\n kn-IN Kannada(India) \\n kok-IN Konkani(India) \\n mr-IN Marathi(India) \\n pa-IN Punjabi(India) \\n sa-IN Sanskrit(India) \\n ta-IN Tamil(India) \\n te-IN Telugu(India)\")\n",
        "say_lang=input(\"\\nENTER THE LANGUAGE IN WHICH YOU ARE FAMILIAR WITH (ENTER THE LANG_CODE) :\")\n",
        "convert_lang=input(\"\\nENTER THE LANGUAGE YOU WANT TO CONVERT INTO (ENTER THE LANG_CODE) :\")\n",
        "translator=Translator(from_lang = say_lang,to_lang=convert_lang)\n",
        "sentence=input(\"\\nENTER THE SENTENCE YOU WANT TO CONVERT INTO :\")\n",
        "translation=translator.translate(sentence)\n",
        "print(translation)"
      ],
      "metadata": {
        "colab": {
          "base_uri": "https://localhost:8080/"
        },
        "id": "uzIS1IIY4Om8",
        "outputId": "7e2de9ce-f3f6-4dc3-d660-e5bfb097cbaa"
      },
      "execution_count": 5,
      "outputs": [
        {
          "output_type": "stream",
          "name": "stdout",
          "text": [
            "\n",
            "INDIAN LANGUAGE TRANSLATOR\n",
            "\n",
            "lang_code language \n",
            " en English(India) \n",
            " gu-IN Gujarati(India) \n",
            " hi-IN Hindi(India) \n",
            " kn-IN Kannada(India) \n",
            " kok-IN Konkani(India) \n",
            " mr-IN Marathi(India) \n",
            " pa-IN Punjabi(India) \n",
            " sa-IN Sanskrit(India) \n",
            " ta-IN Tamil(India) \n",
            " te-IN Telugu(India)\n",
            "\n",
            "ENTER THE LANGUAGE IN WHICH YOU ARE FAMILIAR WITH (ENTER THE LANG_CODE) :en\n",
            "\n",
            "ENTER THE LANGUAGE YOU WANT TO CONVERT INTO (ENTER THE LANG_CODE) :gu-IN\n",
            "\n",
            "ENTER THE SENTENCE YOU WANT TO CONVERT INTO :Introduction This text discusses a judgment from the Supreme Court of India regarding a  complaint filed under Section 138 of the Negotiable Instruments Act.  The case involves a dispute over a cheque issued by the respondent,  which was returned due to insufficient funds. The Trial Court initially  dismissed the complaint, but the Supreme Court upheld it, finding that  the cheque was indeed issued by the respondent.\n",
            "પરિચય આ લખાણ નેગોશીએબલ ઇન્સ્ટ્રુમેન્ટ્સ એક્ટની કલમ 138 હેઠળ દાખલ કરેલી ફરિયાદ અંગે ભારતના સુપ્રીમ કોર્ટના ચુકાદાની ચર્ચા કરે છે.  આ કેસમાં ઉત્તરદાતા દ્વારા જારી કરાયેલા ચેક અંગે વિવાદનો સમાવેશ થાય છે,  જે અપૂરતા ભંડોળને કારણે પરત કરવામાં આવ્યો હતો. ટ્રાયલ કોર્ટે શરૂઆતમાં ફરિયાદને ફગાવી દીધી હતી, પરંતુ સુપ્રીમ કોર્ટે તેને સમર્થન આપ્યું હતું, અને શોધી કાઢ્યું હતું કે ચેક ખરેખર જવાબદાર દ્વારા જારી કરવામાં આવ્યો હતો.\n"
          ]
        }
      ]
    },
    {
      "cell_type": "code",
      "source": [],
      "metadata": {
        "id": "zTH2EGcB4P0D"
      },
      "execution_count": null,
      "outputs": []
    },
    {
      "cell_type": "code",
      "source": [],
      "metadata": {
        "id": "dWQSty_n4QOL"
      },
      "execution_count": null,
      "outputs": []
    }
  ]
}